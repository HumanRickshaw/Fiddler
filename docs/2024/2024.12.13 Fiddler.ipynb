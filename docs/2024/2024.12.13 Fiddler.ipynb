{
 "cells": [
  {
   "cell_type": "markdown",
   "metadata": {},
   "source": [
    "# Can You Squeeze the Particles Into the Box?\n",
    "\n",
    "\n",
    "## [Fiddler](https://thefiddler.substack.com/p/can-you-squeeze-the-particles-into)\n",
    "\n",
    "<p>From John Hannon comes a puzzle inspired by a television show:</p>\n",
    "\n",
    "<p><span>In the game show, </span><em><a href=\"https://en.wikipedia.org/wiki/The_Floor_(American_game_show)\" rel>The Floor</a></em><span>, 100 contestants are assigned to spaces on a 10×10 square grid. Over the course of a season, they compete one-on-one against their immediate neighbors by answering trivia questions. The loser of each duel is eliminated, and the square or squares they control are consigned to the winner.</span></p>\n",
    "\n",
    "<p><span>Let’s consider a slightly simplified version of </span><em>The Floor</em><span> with nine contestants on a 3×3 square grid. Each round of the game consists of the following steps:</span></p>\n",
    "<ul>\n",
    "    <li><p>One of the remaining contestants is chosen at random. (Note that each contestant is equally likely to be chosen, regardless of how many squares they currently control.)</p></li>\n",
    "    <li><p>The set of eligible opponents for this contestant is anyone whose territory shares a common edge with the contestant. One of these eligible opponents is chosen at random. (Again, all eligible opponents are equally likely to be chosen, regardless of how many squares they control or how many edges they have in common with the opponent.)</p></li>\n",
    "    <li><p>The contestant and their selected opponent have a duel, each with a 50 percent chance of winning. The loser is eliminated, and their territory is added to that of the winner.</p></li>\n",
    "</ul>\n",
    "\n",
    "<p>These rounds repeat until one contestant remains, and that contestant is the overall winner.</p>\n",
    "\n",
    "<p><span>You are a contestant on a new season of this 3×3 version of </span><em>The Floor</em><span>. The nine positions on the grid are shown below:</span></p>\n",
    "\n",
    "<img src = \"https://substackcdn.com/image/fetch/w_848,c_limit,f_auto,q_auto:good,fl_progressive:steep/https%3A%2F%2Fsubstack-post-media.s3.amazonaws.com%2Fpublic%2Fimages%2Fbbb120d7-a846-4183-b662-7f48bf38940c_654x616.png\">\n",
    "\n",
    "<p>Which position would you choose? That is, which position or positions give you the best chance of being the overall winner?</p>"
   ]
  },
  {
   "cell_type": "markdown",
   "metadata": {},
   "source": [
    "<html>\n",
    "<head>\n",
    "<meta name=\"viewport\" content=\"width=device-width, initial-scale=1\">\n",
    "<style>\n",
    "* {\n",
    "  box-sizing: border-box;\n",
    "}\n",
    "\n",
    ".column {\n",
    "  float: left;\n",
    "  padding: 10px;\n",
    "}\n",
    "\n",
    "/* Clear floats after the columns */\n",
    ".row:after {\n",
    "  content: \"\";\n",
    "  display: table;\n",
    "  clear: both;\n",
    "}\n",
    "</style>\n",
    "</head>\n",
    "</html>"
   ]
  },
  {
   "cell_type": "markdown",
   "metadata": {},
   "source": [
    "## Solution\n",
    "\n",
    "I created code that did the following :\n",
    "\n",
    "<ol>\n",
    "    <li>Start with :\n",
    "        <ol>\n",
    "            <li>An dictionary of Territory ownership :\n",
    "                <ol>\n",
    "                    <li>Each key is a player denoted by $(x, y)$.</li>\n",
    "                    <li>Each value is a list of territories the player occupies.</li>\n",
    "                    <li>Each of the $N^2$ players initially occupies only the territory the same as their name.</li>\n",
    "                </ol>\n",
    "            </li>\n",
    "            <li>A dictionary of Common Edges :\n",
    "                <ul>\n",
    "                    <li>For each player as a key:\n",
    "                        <ol>\n",
    "                            <li>Look at the cells left of, above, right of, and below.</li>\n",
    "                            <li>If the neighbor exists and has not already been identified as a neighbor, add it to list of neighbors.</li>\n",
    "                            <li>Add the list as the value.</li>\n",
    "                        </ol>\n",
    "                    </li>\n",
    "                </ul>\n",
    "            </li>\n",
    "        </ol>\n",
    "    </li>\n",
    "    <li>While there are at least two players:\n",
    "        <ol>\n",
    "            <li>Randomly select a player.</li>\n",
    "            <li>Randomly select a neighbor.</li>\n",
    "            <li>Randomly select a winner $P_j$ and loser $P_k$ from the two.</li>\n",
    "            <li>Update the Territory :\n",
    "                <ol>\n",
    "                    <li>Append the $P_k$'s territory to that of $P_j$.</li>\n",
    "                    <li>Remove $P_k$.</li>\n",
    "                </ol>\n",
    "            </li>\n",
    "            <li>Update the Common Edges :\n",
    "                <ol>\n",
    "                    <li>For each non-$P_j$ neighbor of the $P_k$, replace $P_k$ with $P_j$.</li>\n",
    "                    <li>Append the $P_k$'s neighbors to that of $P_j$.  Remove $P_k$ and $P_j$ from that list.</li>\n",
    "                    <li>Remove $P_k$.</li>\n",
    "                </ol>\n",
    "            </li>\n",
    "            <li>There is now one less player.  Continue.</li>\n",
    "        </ol>\n",
    "    </li>\n",
    "    <li>Return the last remaining player.</li>\n",
    "</ol>"
   ]
  },
  {
   "cell_type": "markdown",
   "metadata": {},
   "source": [
    "## Answer\n",
    "\n",
    "I ran $1,000,000$ trials for a $3x3$ <em>The Floor</em>.\n",
    "\n",
    "The 4 corners seem to have each a probability of $~0.1288$, which is significantly greater than $\\frac{1}{9}$.\n",
    "\n",
    "It makes sense that the corners have higher probabilities, as they have two directions from which they <em>will never</em> be attacked, no matter how large their territory gets."
   ]
  },
  {
   "cell_type": "markdown",
   "metadata": {},
   "source": [
    "## Extra Credit\n",
    "\n",
    "<p><span>Again, a new season of the 3×3 version of </span><em>The Floor</em><span> (as described above) is about to begin.</span></p>\n",
    "\n",
    "<p><span>What is your </span><em>probability</em><span> of winning for each of the nine starting positions?</span></p>"
   ]
  },
  {
   "cell_type": "markdown",
   "metadata": {},
   "source": [
    "## Answer\n",
    "\n",
    "<img src = \"2024.12.13EC.png\">\n",
    "\n",
    "The edges are significantly greater than the center, as they have one direction from which they will never be attacked."
   ]
  },
  {
   "cell_type": "markdown",
   "metadata": {},
   "source": [
    "## Extra Extra Credit\n",
    "\n",
    "<p><span>And for Extra Extra Credit, suppose there are </span><em>N</em><sup>2</sup><em> </em><span>positions on an </span><em>N</em><span>×</span><em>N</em><span> square grid. What is your probability of winning from each of these?</span></p>"
   ]
  },
  {
   "cell_type": "markdown",
   "metadata": {},
   "source": [
    "## Solution\n",
    "\n",
    "Actually, I ran $1,000,000$ trials for all <em>The Floor</em> scenarios for $N = 2$ to $30$.  I also accounted for symmetry and averaged cells that can be transposed by rotation or reflection.  \n",
    "\n",
    "$N = 2$ is unique, the four corners are also the four centers.\n",
    "\n",
    "I found there are two patterns, as $N$ being even or odd makes a difference for the center.\n",
    "   \n",
    "I noticed for $N>2$ the corner probabilities, or upper limit of win probability, is $\\boxed{\\frac{2}{(N+1)^2}}$.\n",
    "\n",
    " \n",
    "\n",
    "The center probabilities, or lower limit for win probability, is $\\boxed{\\frac{1}{(N+1)^2}}$. \n",
    "\n",
    "I couldn't explain this...so I animated it.\n",
    "\n",
    "<video controls style = \"padding: 0px; border: 0px;\" src = \"2024.12.13.mp4\" />"
   ]
  },
  {
   "cell_type": "markdown",
   "metadata": {},
   "source": [
    "#### Rohan Lewis\n",
    "\n",
    "#### 2024.12.13\n",
    "\n",
    "Code can be found [here](https://humanrickshaw.github.io/Fiddler/2024/2024.12.13%20Fiddler%20Code.html)."
   ]
  }
 ],
 "metadata": {
  "kernelspec": {
   "display_name": "Python 3 (ipykernel)",
   "language": "python",
   "name": "python3"
  },
  "language_info": {
   "codemirror_mode": {
    "name": "ipython",
    "version": 3
   },
   "file_extension": ".py",
   "mimetype": "text/x-python",
   "name": "python",
   "nbconvert_exporter": "python",
   "pygments_lexer": "ipython3",
   "version": "3.11.5"
  }
 },
 "nbformat": 4,
 "nbformat_minor": 4
}
