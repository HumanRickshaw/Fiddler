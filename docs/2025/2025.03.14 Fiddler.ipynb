{
 "cells": [
  {
   "cell_type": "markdown",
   "metadata": {},
   "source": [
    "# A Pi Day Puzzle\n",
    "\n",
    "## [Fiddler](https://thefiddler.substack.com/p/a-pi-day-puzzle)\n",
    "\n",
    "<p><span>From Jason Zimba (a colleague of mine at </span><a href=\"https://amplify.com/math-programs/\" rel>Amplify</a><span>), comes a puzzle that’s perfect for </span><a href=\"https://en.wikipedia.org/wiki/Pi_Day\" rel>Pi Day</a><span>:</span></p>\n",
    "\n",
    "<p>You are planning a picnic on the remote tropical island of 𝜋-land. The island’s shape is a perfect semi-disk with two beaches, as illustrated below: Semicircular Beach (along the northern semicircular edge of the disk) and Diametric Beach (along the southern diameter of the disk).</p><br>\n",
    "\n",
    "<center><div class = \"column\" style = \"width: 450px\">\n",
    "    <a target = \"_blank\" href = \"https://substackcdn.com/image/fetch/w_848,c_limit,f_auto,q_auto:good,fl_progressive:steep/https%3A%2F%2Fsubstack-post-media.s3.amazonaws.com%2Fpublic%2Fimages%2F7b37c0ce-2e98-4943-8c8a-d0f61bb6df8f_926x574.png\"><img src = \"https://substackcdn.com/image/fetch/w_848,c_limit,f_auto,q_auto:good,fl_progressive:steep/https%3A%2F%2Fsubstack-post-media.s3.amazonaws.com%2Fpublic%2Fimages%2F7b37c0ce-2e98-4943-8c8a-d0f61bb6df8f_926x574.png\"></a>\n",
    "</div></center>\n",
    "\n",
    "<p>If you pick a random spot on 𝜋-land for your picnic, what is the probability that it will be closer to Diametric Beach than to Semicircular Beach? (Unlike the illustrative diagram above, assume the beaches have zero width.)</p>"
   ]
  },
  {
   "cell_type": "markdown",
   "metadata": {},
   "source": [
    "## Solution\n",
    "\n",
    "The shortest distance to Diametric Beach will always be along a path due south.  The shortest distance to Semicircular Beach will always be a path along the radius of 𝜋-land.  \n",
    "\n",
    "Place the center of Diametric Beach at $(0,0)$ on a Cartesian Plane.\n",
    "\n",
    "<center><div class = \"column\" style = \"width: 450px\">\n",
    "    <a target = \"_blank\" href = \"2025.03.14Fiddler1.png\"><img src = \"2025.03.14Fiddler1.png\"></a>\n",
    "</div></center>\n",
    "\n",
    "Equality occurs at :\n",
    "\n",
    "\\begin{align*}\n",
    "y &= 1 - \\sqrt{x^2+y^2} \\\\\n",
    "y^2 -2y + 1 &= x^2+y^2 \\\\\n",
    "y &= \\boxed{-\\frac{x^2}{2} + \\frac{1}{2}} \\\\\n",
    "\\end{align*}"
   ]
  },
  {
   "cell_type": "markdown",
   "metadata": {},
   "source": [
    "The probabilty that the random spot will be closer to Diametric Beach than to Semicircular Beach is the area between the above equation and the x-axis divided by the area of 𝜋-land $\\left(\\frac{\\pi}{2}\\right)$.\n",
    "\n",
    "Utilizing symmetry,\n",
    "\n",
    "\\begin{align*}\n",
    "A &= 2 \\cdot \\int\\limits_0^1 \\left(-\\frac{x^2}{2} + \\frac{1}{2}\\right) dx \\\\\n",
    "&= 2 \\cdot \\left[-\\frac{x^3}{6} + \\frac{x}{2} \\right]_0^1 \\\\\n",
    "&= 2 \\cdot \\left[\\left(-\\frac{1}{6}+\\frac{1}{2}\\right) - \\left(-\\frac{0}{6}+\\frac{0}{2}\\right) \\right] \\\\\n",
    "&= \\boxed{\\frac{2}{3}} \\\\\n",
    "\\end{align*}\n",
    "\n",
    "<center><div class = \"column\" style = \"width: 450px\">\n",
    "    <a target = \"_blank\" href = \"2025.03.14Fiddler2.png\"><img src = \"2025.03.14Fiddler2.png\"></a>\n",
    "</div></center>"
   ]
  },
  {
   "cell_type": "markdown",
   "metadata": {},
   "source": [
    "## Answer\n",
    "\n",
    "The probability is thus,\n",
    "\n",
    "$$P = \\frac{\\frac{2}{3}}{\\frac{\\pi}{2}} = \\boxed{\\frac{4}{3\\pi} \\approx 0.4244}$$"
   ]
  },
  {
   "cell_type": "markdown",
   "metadata": {},
   "source": [
    "## Extra Credit\n",
    "    \n",
    "<p>From Jason Zimba also comes some Extra Credit:</p>\n",
    "\n",
    "<p>Suppose the island of 𝜋-land, as described above, has a radius of 1 mile. That is, Diametric Beach has a length of 2 miles.</p>\n",
    "\n",
    "<p>Again, you are picking a random point on the island for a picnic. On average, what will be the expected shortest distance to shore?</p>"
   ]
  },
  {
   "cell_type": "markdown",
   "metadata": {},
   "source": [
    "## Solution\n"
   ]
  },
  {
   "cell_type": "markdown",
   "metadata": {},
   "source": [
    "Converting to polar coordinates, \n",
    "\n",
    "<center><div class = \"column\" style = \"width: 450px\">\n",
    "    <a target = \"_blank\" href = \"2025.03.14EC1.png\"><img src = \"2025.03.14EC1.png\"></a>\n",
    "</div></center>\n",
    "\n",
    "Additionally, \n",
    "\n",
    "\\begin{align*}\n",
    "y &= 1 - \\sqrt{x^2+y^2} \\\\\n",
    "r\\sin\\theta &= 1-r \\\\\n",
    "r(\\sin\\theta +1) &= 1 \\\\\n",
    "r &= \\boxed{\\frac{1}{\\sin\\theta +1}} \\\\\n",
    "\\end{align*}\n",
    "\n",
    "$D(r, \\theta)$, the shortest distance, can be expressed as: \n",
    "<br>\n",
    "$$D(r, \\theta) = \n",
    "\\Bigg[\n",
    "\\begin{array}{ll}\n",
    "      r\\sin\\theta & 0\\leq r\\leq \\frac{1}{sin\\theta+1} \\\\\n",
    "      1-r & \\frac{1}{sin\\theta+1} \\leq r\\leq 1 \\\\\n",
    "\\end{array}\n",
    "\\Bigg]$$"
   ]
  },
  {
   "cell_type": "markdown",
   "metadata": {},
   "source": [
    "Taking the double integral and divide by area to determine average shortest distance:\n",
    "\n",
    "\\begin{align*}\n",
    "A &= \\frac{2 \\cdot \\int\\limits_0^\\frac{\\pi}{2} \\int\\limits_0^1 D(r,\\theta)\\cdot r dr d\\theta}{\\frac{\\pi}{2}}\\\\\n",
    "&= \\frac{4}{\\pi} \\cdot \\int\\limits_0^\\frac{\\pi}{2} \\left(\\int\\limits_0^\\frac{1}{\\sin\\theta+1} r\\sin\\theta\\cdot r dr + \\int\\limits_\\frac{1}{sin\\theta+1}^1 (1-r)r dr\\right) d\\theta \\\\\n",
    "&= \\frac{4}{\\pi} \\cdot\\int\\limits_0^\\frac{\\pi}{2} \\left(\\int\\limits_0^\\frac{1}{\\sin\\theta+1} r^2\\sin\\theta dr + \\int\\limits_\\frac{1}{sin\\theta+1}^1 (r-r^2) dr\\right) d\\theta \\\\\n",
    "&= \\frac{4}{\\pi} \\cdot\\int\\limits_0^\\frac{\\pi}{2} \\left(\\left[\\frac{r^3\\sin\\theta}{3} \\right]_0^\\frac{1}{\\sin\\theta+1} + \\left[\\frac{r^2}{2}-\\frac{r^3}{3} \\right]_\\frac{1}{\\sin\\theta+1}^1 \\right) d\\theta \\\\\n",
    "&= \\frac{4}{\\pi} \\cdot\\int\\limits_0^\\frac{\\pi}{2} \\Bigg(\\left(\\frac{\\sin\\theta}{3(\\sin\\theta+1)^3} - 0\\right) + \\left(\\left(\\frac{1}{2} - \\frac{1}{3}\\right) - \\left(\\frac{1}{2(\\sin\\theta+1)^2}-\\frac{1}{3(\\sin\\theta+1)^3} \\right)\\right)\\Bigg) d\\theta \\\\\n",
    "&= \\frac{4}{\\pi} \\cdot \\frac{1}{6} \\cdot\\int\\limits_0^\\frac{\\pi}{2} \\Bigg(1 + \\frac{2\\sin\\theta - 3(\\sin\\theta+1) + 2}{(\\sin\\theta+1)^3}\\Bigg) d\\theta \\\\\n",
    "&= \\frac{2}{3\\pi} \\cdot \\int\\limits_0^\\frac{\\pi}{2} \\Bigg(1 - \\frac{\\sin\\theta + 1}{(\\sin\\theta+1)^3}\\Bigg) d\\theta \\\\\n",
    "&= \\frac{2}{3\\pi} \\cdot \\int\\limits_0^\\frac{\\pi}{2} \\Bigg(1 - \\frac{1}{(\\sin\\theta+1)^2}\\Bigg) d\\theta \\\\\n",
    "\\end{align*}"
   ]
  },
  {
   "cell_type": "markdown",
   "metadata": {},
   "source": [
    "## Answer\n",
    "\n",
    "Using an [integral solver](https://www.integral-calculator.com/),\n",
    "\n",
    "$$\\frac{2}{3\\pi}\\cdot\\frac{3\\pi-4}{6} = \\boxed{\\frac{1}{3}-\\frac{4}{9\\pi} \\approx 0.1919}$$\n",
    "\n",
    "I couldn't pass up on this heatmap...\n",
    "\n",
    "<center><div class = \"column\" style = \"width: 450px\">\n",
    "    <a target = \"_blank\" href = \"2025.03.14EC2.png\"><img src = \"2025.03.14EC2.png\"></a>\n",
    "</div></center>"
   ]
  },
  {
   "cell_type": "markdown",
   "metadata": {},
   "source": [
    "### Rohan Lewis\n",
    "\n",
    "#### 2025.03.17\n",
    "\n",
    "Code can be found [here](https://humanrickshaw.github.io/Fiddler/2025/2025.03.14%20Fiddler%20Code.html)."
   ]
  }
 ],
 "metadata": {
  "kernelspec": {
   "display_name": "Python 3 (ipykernel)",
   "language": "python",
   "name": "python3"
  },
  "language_info": {
   "codemirror_mode": {
    "name": "ipython",
    "version": 3
   },
   "file_extension": ".py",
   "mimetype": "text/x-python",
   "name": "python",
   "nbconvert_exporter": "python",
   "pygments_lexer": "ipython3",
   "version": "3.11.5"
  }
 },
 "nbformat": 4,
 "nbformat_minor": 4
}
