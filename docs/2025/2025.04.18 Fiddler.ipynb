{
 "cells": [
  {
   "cell_type": "markdown",
   "metadata": {},
   "source": [
    "# Can You Throw the Hammer?\n",
    "\n",
    "## [Fiddler](https://thefiddler.substack.com/p/can-you-throw-the-hammer)\n",
    "\n",
    "<p><span>Chris Payne recently introduced me to “</span><a href=\"https://tglgolf.com/\" rel>TGL</a><span>” golf, which looks bonkers. Here’s a puzzle that’s inspired by one of the rules from TGL:</span></p>\n",
    "\n",
    "<p>You and your opponent are competing in a golf match. On any given hole you play, each of you has a 50 percent chance of winning the hole (and a zero percent chance of tying). That said, scorekeeping in this match is a little different from the norm.</p>\n",
    "\n",
    "<p><span>Each hole is worth 1 point. Before starting each hole, either you or your opponent can “throw the hammer.” When the hammer has been thrown, whoever did </span><em>not</em><span> throw the hammer must either accept the hammer or reject it. If they accept the hammer, the hole is worth 2 points. If they reject the hammer, they concede the hole and its 1 point to their opponent. Both players can throw the hammer on as many holes as they wish. (Should both players decide to throw the hammer at the exact same time—something that can’t be planned in advance—the hole is worth 2 points.)</span></p>\n",
    "\n",
    "<p>The first player to reach 3 points wins the match. Suppose all players always make rational decisions to maximize their own chances of winning.</p>\n",
    "\n",
    "<p>Good news! You have won the first hole, and now lead 1-0. What is your probability of winning the match?</p>"
   ]
  },
  {
   "cell_type": "markdown",
   "metadata": {},
   "source": [
    "## Solution\n",
    "\n",
    "First, there is no benefit to rejecting the hammer if your opponent throws it.  It gives your opponent a point, which brings them closer to victory.\n",
    "\n",
    "Second, for every scenario, we can assume a hammer has been thrown.  One of these three is always true:\n",
    "\n",
    "<ol>\n",
    "    <li> A hammer thrown benefits you, so you throw a hammer.</li>\n",
    "    <li> A hammer thrown benefits your opponent, so they throw a hammer.</li>\n",
    "    <li> A hammer thrown results in the same probability of winning as not throwing a hammer.  There is no difference.</li>\n",
    "</ol>\n",
    "\n",
    "Half the time you will get 2 points and half the time your opponent will get two points.\n",
    "\n",
    "Let $d_{p_1}$ and $d_{p_2}$ be the respective number of points you and your opponent have.  Let $P_3(d_{p_1}, d_{p_2})$ be the probability that you win.  Thus,\n",
    "\n",
    "$$\\boxed{P_3(d_{p_1}, d_{p_2}) = \\frac{1}{2} \\big(P_3(d_{p_1}+2, d_{p_2}) + P_3(d_{p_1}, d_{p_2}+2))}$$\n",
    "\n",
    "If the distance is $d_{p_1}$ or $d_{p_2}$ is at least the number of points to win, then the probability is 1 or 0, respectively.\n",
    "\n",
    "If $d_{p_1} = d_{p_2}$, the probability is $\\frac{1}{2}$.\n"
   ]
  },
  {
   "cell_type": "markdown",
   "metadata": {},
   "source": [
    "\\begin{align*}\n",
    "P_3(1, 0) &= \\frac{1}{2}P_3(3, 0) + \\frac{1}{2}P_3(1, 2) \\\\\n",
    "P_3(1, 2) &= \\frac{1}{2}P_3(3, 2) + \\frac{1}{2}P_3(1, 4) \\\\\n",
    "P_3(1, 2) &= \\frac{1}{2}(1) + \\frac{1}{2}(0) \\\\\n",
    "P_3(1, 2) &= \\frac{1}{2} \\\\\n",
    "\\end{align*}\n"
   ]
  },
  {
   "cell_type": "markdown",
   "metadata": {},
   "source": [
    "## Answer\n",
    "\n",
    "$$P_3(1, 0) = \\frac{1}{2}(1) + \\frac{1}{2}\\bigg(\\frac{1}{2}\\bigg) = \\boxed{\\frac{3}{4}}$$\n"
   ]
  },
  {
   "cell_type": "markdown",
   "metadata": {},
   "source": [
    "## Extra Credit\n",
    "    \n",
    "<p>Instead of playing to 3 points, now the first player to 5 points wins the match.</p>\n",
    "\n",
    "<p>Good news (again)! You have won the first hole, and now lead 1-0. What is your probability of winning the match?</p>"
   ]
  },
  {
   "cell_type": "markdown",
   "metadata": {},
   "source": [
    "## Solution\n"
   ]
  },
  {
   "cell_type": "markdown",
   "metadata": {},
   "source": [
    "I wrote code that recursively evaluates a scenario based on the findings above."
   ]
  },
  {
   "cell_type": "markdown",
   "metadata": {},
   "source": [
    "## Answer\n",
    "\n",
    "$$\\boxed{P_5(1, 0) = \\frac{11}{16}}$$\n",
    "\n",
    "As a general form, $$P_w(1,0) = \\frac{2^{w-2}+\\frac{1+(-1)^{w-1}}{4}{{w-1} \\choose {\\frac{w-1}{2}}}}{2^{w-1}}$$\n",
    "\n",
    "derived from [A027306](https://oeis.org/A027306).  The probability of winning has countless fascinating patterns...\n",
    "\n",
    "<video controls style = \"padding: 0px; border: 0px;\" src = \"2025.04.18.mp4\" />"
   ]
  },
  {
   "cell_type": "markdown",
   "metadata": {},
   "source": [
    "### Rohan Lewis\n",
    "\n",
    "#### 2025.04.21\n",
    "\n",
    "Code can be found [here](https://humanrickshaw.github.io/Fiddler/2025/2025.04.18%20Fiddler%20Code.html)."
   ]
  }
 ],
 "metadata": {
  "kernelspec": {
   "display_name": "Python 3 (ipykernel)",
   "language": "python",
   "name": "python3"
  },
  "language_info": {
   "codemirror_mode": {
    "name": "ipython",
    "version": 3
   },
   "file_extension": ".py",
   "mimetype": "text/x-python",
   "name": "python",
   "nbconvert_exporter": "python",
   "pygments_lexer": "ipython3",
   "version": "3.11.5"
  }
 },
 "nbformat": 4,
 "nbformat_minor": 4
}
