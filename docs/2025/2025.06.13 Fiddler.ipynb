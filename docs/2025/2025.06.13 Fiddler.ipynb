{
 "cells": [
  {
   "cell_type": "markdown",
   "metadata": {},
   "source": [
    "# Can You Race Against Zeno?\n",
    "\n",
    "## [Fiddler](https://thefiddler.substack.com/p/can-you-race-against-zeno)\n",
    "\n",
    "<p>I’ve been experimenting with different strategies in 5000-meter races (known as “5K”s). If I run the distance at a steady pace, I’ll finish in precisely 23 minutes.</p>\n",
    "\n",
    "<p>However, I tend to find a burst of energy as I near the finish line. Therefore, I’ve tried intentionally running what’s called a “negative split,” meaning I run the second half of the race faster than the first half—as opposed to a “positive split,” where I run a slower second half.</p>\n",
    "\n",
    "<p><span>I want to take the concept of a negative split to the next level. My plan for an upcoming race—the “Zeno Paradox 5K”—is to start out with a 24-minute pace (i.e., running at a speed such that if I ran the </span><em>whole distance</em><span> at that speed, I’d finish in 24 minutes). Halfway through the race </span><em>by distance</em><span> (i.e., after 2500 meters), I’ll increase my speed by 10 percent. Three-quarters of the way through, I’ll increase by </span><em>another</em><span> 10 percent. If you’re keeping track, that’s now 21 percent faster than my speed at the start.</span></p>\n",
    "\n",
    "<p>I continue in this fashion, upping my tempo by 10% every time I’m half the distance to the finish line from my previous change in pace. (Let’s put aside the fact that my speed will have surpassed the speed of light somewhere near the finish line.)</p>\n",
    "\n",
    "<p>Using this strategy, how long will it take me to complete the 5K? I’m really hoping it’s faster than my steady 23-minute pace, even though I start out slower (at a 24-minute pace).</p>"
   ]
  },
  {
   "cell_type": "markdown",
   "metadata": {},
   "source": [
    "## Solution\n",
    "\n",
    "The initial speed is \n",
    "<br>\n",
    "$$\\frac{5}{24} \\text{km/min}$$\n",
    "<br>\n",
    "Start with\n",
    "<br>\n",
    "$$\\text{speed} = \\frac{\\text{distance}}{\\text{time}}\\text{.}$$\n",
    "<br>\n",
    "Cross multiplying yields\n",
    "<br>\n",
    "$$\\text{time} = \\frac{\\text{distance}}{\\text{speed}}\\text{.}$$\n",
    "<br>\n",
    "Since there are known discrete changing intervals of known distance and speed, \n",
    "<br>\n",
    "$$\\text{time}_\\text{Total} = \\sum\\limits_{n = 0}^{\\infty} \\frac{x_n}{s_n}$$\n",
    "<br>\n",
    "The interval distances, in kilometers, follow the geometric series: $\\dfrac{5}{2}, \\dfrac{5}{4}, \\dots, \\dfrac{5}{2^{n+1}}$\n",
    "<br>\n",
    "The corresponding interval speeds, in km/min, follow the geometric series: $\\dfrac{5}{24}, \\dfrac{5}{24}\\left(\\dfrac{11}{10}\\right), \\dots,  \\dfrac{5}{24}\\left(\\dfrac{11}{10}\\right)^n$\n"
   ]
  },
  {
   "cell_type": "markdown",
   "metadata": {},
   "source": [
    "Evaluating, \n",
    "\n",
    "\\begin{align*}\n",
    "\\text{time}_\\text{Total} &= \\sum\\limits_{n = 0}^{\\infty} \\frac{\\dfrac{5}{2^{n+1}}}{\\dfrac{5}{24}\\left(\\dfrac{11}{10}\\right)^n} \\\\\n",
    "\\text{time}_\\text{Total} &= \\dfrac{5\\cdot 24}{5\\cdot 2}\\sum\\limits_{n = 0}^{\\infty} \\dfrac{1}{2^n}\\left(\\dfrac{10}{11}\\right)^n \\\\\n",
    "\\text{time}_\\text{Total} &= 12\\sum\\limits_{n = 0}^{\\infty} \\left(\\dfrac{5}{11}\\right)^n \\\\\n",
    "\\end{align*}\n",
    "<br>\n",
    "Evaluating the infinite geometric series,\n",
    "<br>\n",
    "\\begin{align*}\n",
    "\\text{time}_\\text{Total} &= 12 \\cdot \\frac{1}{1-\\frac{5}{11}} \\\\\n",
    "\\text{time}_\\text{Total} &= 12 \\cdot \\frac{11}{6} \\\\\n",
    "\\end{align*}"
   ]
  },
  {
   "cell_type": "markdown",
   "metadata": {},
   "source": [
    "## Answer\n",
    "\n",
    "The total time will be\n",
    "$$\\boxed{22 \\text{ minutes.}}$$"
   ]
  },
  {
   "cell_type": "markdown",
   "metadata": {},
   "source": [
    "## Extra Credit\n",
    "    \n",
    "<p><span>I still want to run a negative split, but upping my tempo in discrete steps is such a slog. Instead, my next plan is to </span><em>continuously</em><span> increase my pace in the following way:</span></p>\n",
    "\n",
    "<p><span>At the beginning of the race, I’ll start with a 24-minute pace. Then, wherever I am on the race course, I’m always running 10 percent faster than I was when I was twice as far from the finish line. Also, my speed should always be increasing in a continuous and </span><a href=\"https://mathworld.wolfram.com/SmoothFunction.html\" rel>smooth</a><span> fashion.</span></p>\n",
    "\n",
    "<p>(On the off chance you find more than one speed as a function of distance that satisfies all these conditions, I’m interested in seeing how. If only one such function exists, can you prove it? Regardless, my expectation is for the function to be as straightforward as possible.)</p>\n",
    "\n",
    "<p>Using this strategy, how long will it take me to complete the 5K? Once again, I’m hoping it’s faster than my steady 23-minute pace, even though I started out slower.</p>"
   ]
  },
  {
   "cell_type": "markdown",
   "metadata": {},
   "source": [
    "## Solution\n",
    "\n",
    "<center><q>I’m always running 10 percent faster than I was when I was twice as far from the finish line.</q></center>\n",
    "<br>\n",
    "implies an exponential function.  Start with\n",
    "<br>\n",
    "$$s(x) = s_0r^{\\mathop{g}(5-x)}$$\n",
    "<br>\n",
    "Where $s(x)$ is the speed, $s_0 = \\dfrac{5}{24}$, $r = \\dfrac{11}{10}$, and $\\mathop{g}(5-x)$ is the exponent, depending on how far away from the finish line.\n",
    "<br>\n",
    "$$s(x) = \\frac{5}{24}\\left(\\dfrac{11}{10}\\right)^{\\mathop{g}(5-x)}$$"
   ]
  },
  {
   "cell_type": "markdown",
   "metadata": {},
   "source": [
    "The following table summarizes discrete values every halfway point to the finish line\n",
    "\n",
    "<table>\n",
    "    <th style = \"text-align: center\" width = 150>Distance</th>\n",
    "    <th style = \"text-align: center\" width = 200>Distance from finish line</th>\n",
    "    <th style = \"text-align: center\" width = 150>Exponent ${\\mathop{g}(5-x)}$</th>\n",
    "    <tbody>\n",
    "        <tr>\n",
    "            <td style = \"text-align: center\">$0$</td>\n",
    "            <td style = \"text-align: center\">$5$</td>\n",
    "            <td style = \"text-align: center\">$0$</td>\n",
    "        </tr>\n",
    "        <tr>\n",
    "            <td style = \"text-align: center\">$\\dfrac{5}{2}$</td>\n",
    "            <td style = \"text-align: center\">$\\dfrac{5}{2}$</td>\n",
    "            <td style = \"text-align: center\">$1$</td>\n",
    "        </tr>\n",
    "        <tr>\n",
    "            <td style = \"text-align: center\">$\\dfrac{15}{4}$</td>\n",
    "            <td style = \"text-align: center\">$\\dfrac{5}{4}$</td>\n",
    "            <td style = \"text-align: center\">$2$</td>\n",
    "        </tr>\n",
    "        <tr>\n",
    "            <td style = \"text-align: center\">$\\dfrac{35}{8}$</td>\n",
    "            <td style = \"text-align: center\">$\\dfrac{5}{8}$</td>\n",
    "            <td style = \"text-align: center\">$3$</td>\n",
    "        </tr>\n",
    "        <tr>\n",
    "            <td style = \"text-align: center\">$\\cdots$</td>\n",
    "            <td style = \"text-align: center\">$\\cdots$</td>\n",
    "            <td style = \"text-align: center\">$\\cdots$</td>\n",
    "        </tr>\n",
    "        <tr>\n",
    "            <td style = \"text-align: center\">$\\dfrac{5*(2^n-1)}{2^n}$</td>\n",
    "            <td style = \"text-align: center\">$\\dfrac{5}{2^n}$</td>\n",
    "            <td style = \"text-align: center\">$n$</td>\n",
    "        </tr>\n",
    "        <tr>\n",
    "            <td style = \"text-align: center\">$x$</td>\n",
    "            <td style = \"text-align: center\">$5-x$</td>\n",
    "            <td style = \"text-align: center\">$-\\log_2\\left(1-\\dfrac{x}{5}\\right)$</td>\n",
    "        </tr>        \n",
    "    </tbody>            \n",
    "</table>\n",
    "\n",
    "<br>\n",
    "<br>Thus the instantaneous speed $s$ at a distance $x$ is\n",
    "<br>\n",
    "$$\\boxed{s(x) = \\frac{5}{24}\\left(\\dfrac{11}{10}\\right)^{-\\log_2\\left(1-\\frac{x}{5}\\right)}}$$\n",
    "<br>"
   ]
  },
  {
   "cell_type": "markdown",
   "metadata": {},
   "source": [
    "Solving for time,\n",
    "<br>\n",
    "\\begin{align*}\n",
    "\\text{time} &= \\frac{\\text{distance}}{\\text{speed}} \\\\\n",
    "\\text{time}_\\text{Total} &= \\frac{1}{\\int s(x)dx } \\\\\n",
    "\\text{time}_\\text{Total} &= \\int\\limits_{x=0}^5 \\dfrac{24}{5}\\left(\\dfrac{11}{10}\\right)^{\\log_2\\left(1-\\frac{x}{5}\\right)} dx\\\\\n",
    "\\end{align*}"
   ]
  },
  {
   "cell_type": "markdown",
   "metadata": {},
   "source": [
    "## Answer\n",
    "\n",
    "Using [Integral Calculator](https://www.integral-calculator.com/), the answer is \n",
    "<br>\n",
    "$$\\frac{24}{\\log_2{\\frac{11}{5}}} \\approx \\boxed{21.0988 \\text{ minutes}}$$\n",
    "\n",
    "<img src = 2025.06.13.png>"
   ]
  },
  {
   "cell_type": "markdown",
   "metadata": {},
   "source": [
    "### Rohan Lewis\n",
    "\n",
    "#### 2025.06.16\n",
    "\n",
    "Code can be found [here](https://humanrickshaw.github.io/Fiddler/2025/2025.06.13%20Fiddler%20Code.html)."
   ]
  }
 ],
 "metadata": {
  "kernelspec": {
   "display_name": "Python 3 (ipykernel)",
   "language": "python",
   "name": "python3"
  },
  "language_info": {
   "codemirror_mode": {
    "name": "ipython",
    "version": 3
   },
   "file_extension": ".py",
   "mimetype": "text/x-python",
   "name": "python",
   "nbconvert_exporter": "python",
   "pygments_lexer": "ipython3",
   "version": "3.11.5"
  }
 },
 "nbformat": 4,
 "nbformat_minor": 4
}
